{
 "cells": [
  {
   "cell_type": "code",
   "execution_count": 12,
   "id": "44ef31cc",
   "metadata": {},
   "outputs": [
    {
     "name": "stdout",
     "output_type": "stream",
     "text": [
      "User 'Madhurya' registered successfully!\n",
      "Ambulance 1 added successfully!\n",
      "Ambulance 2 added successfully!\n",
      "Booking confirmed!\n",
      "User: Madhurya, Ambulance: 2, Pickup: (15, 25), Dropoff: Dropoff Location\n"
     ]
    }
   ],
   "source": [
    "import math\n",
    "class User:\n",
    "    def __init__(self, name, email):\n",
    "        self.name = name\n",
    "        self.email = email\n",
    "class Ambulance:\n",
    "    def __init__(self, id, type, location, available=True):\n",
    "        self.id = id\n",
    "        self.type = type\n",
    "        self.location = location\n",
    "        self.available = available\n",
    "class Booking:\n",
    "    def __init__(self, user, ambulance, pickup_location, dropoff_location):\n",
    "        self.user = user\n",
    "        self.ambulance = ambulance\n",
    "        self.pickup_location = pickup_location\n",
    "        self.dropoff_location = dropoff_location\n",
    "class AmbulanceBookingSystem:\n",
    "    def __init__(self):\n",
    "        self.users = []\n",
    "        self.ambulances = []\n",
    "        self.bookings = []\n",
    "    def register_user(self, name, email):\n",
    "        user = User(name, email)\n",
    "        self.users.append(user)\n",
    "        print(f\"User '{user.name}' registered successfully!\")\n",
    "    def add_ambulance(self, id, type, location):\n",
    "        ambulance = Ambulance(id, type, location)\n",
    "        self.ambulances.append(ambulance)\n",
    "        print(f\"Ambulance {ambulance.id} added successfully!\")\n",
    "    def book_ambulance(self, user, pickup_location, dropoff_location):\n",
    "        ambulance = self.find_nearest_available_ambulance(pickup_location)\n",
    "        if ambulance:\n",
    "            booking = Booking(user, ambulance, pickup_location, dropoff_location)\n",
    "            self.bookings.append(booking)\n",
    "            ambulance.available = False\n",
    "            print(\"Booking confirmed!\")\n",
    "        else:\n",
    "            print(\"No available ambulances nearby.\")\n",
    "    def find_nearest_available_ambulance(self, user_location):\n",
    "        min_distance = math.inf\n",
    "        nearest_ambulance = None\n",
    "        for ambulance in self.ambulances:\n",
    "            if ambulance.available:\n",
    "                distance = self.calculate_distance(user_location, ambulance.location)\n",
    "                if distance < min_distance:\n",
    "                    min_distance = distance\n",
    "                    nearest_ambulance = ambulance\n",
    "        return nearest_ambulance\n",
    "    def calculate_distance(self, location1, location2):\n",
    "        x1, y1 = location1\n",
    "        x2, y2 = location2\n",
    "        distance = math.sqrt((x2 - x1) ** 2 + (y2 - y1) ** 2)\n",
    "        return distance\n",
    "    def display_bookings(self):\n",
    "        for booking in self.bookings:\n",
    "            print(f\"User: {booking.user.name}, Ambulance: {booking.ambulance.id}, \"\n",
    "                  f\"Pickup: {booking.pickup_location}, Dropoff: {booking.dropoff_location}\")\n",
    "booking_system = AmbulanceBookingSystem()\n",
    "booking_system.register_user(\"Madhurya\", \"madhuryapothu@gmail.com\")\n",
    "booking_system.add_ambulance(1, \"Type A\", (10, 20))\n",
    "booking_system.add_ambulance(2, \"Type B\", (10, 21))\n",
    "user = booking_system.users[0]\n",
    "booking_system.book_ambulance(user, (15, 25), \"Dropoff Location\")\n",
    "booking_system.display_bookings()"
   ]
  },
  {
   "cell_type": "code",
   "execution_count": null,
   "id": "a069ab6b",
   "metadata": {},
   "outputs": [],
   "source": []
  },
  {
   "cell_type": "code",
   "execution_count": null,
   "id": "e5eb1cb8",
   "metadata": {},
   "outputs": [],
   "source": []
  }
 ],
 "metadata": {
  "kernelspec": {
   "display_name": "Python 3 (ipykernel)",
   "language": "python",
   "name": "python3"
  },
  "language_info": {
   "codemirror_mode": {
    "name": "ipython",
    "version": 3
   },
   "file_extension": ".py",
   "mimetype": "text/x-python",
   "name": "python",
   "nbconvert_exporter": "python",
   "pygments_lexer": "ipython3",
   "version": "3.9.13"
  }
 },
 "nbformat": 4,
 "nbformat_minor": 5
}
